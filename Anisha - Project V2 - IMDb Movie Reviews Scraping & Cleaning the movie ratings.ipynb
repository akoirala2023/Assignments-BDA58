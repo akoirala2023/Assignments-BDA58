{
 "cells": [
  {
   "cell_type": "code",
   "execution_count": 13,
   "id": "9d97b27d",
   "metadata": {},
   "outputs": [],
   "source": [
    "from bs4 import BeautifulSoup\n",
    "import requests\n",
    "import re\n",
    "import json"
   ]
  },
  {
   "cell_type": "code",
   "execution_count": 3,
   "id": "a00bcd2c",
   "metadata": {},
   "outputs": [],
   "source": [
    "#Downloading imdb top 250 movie\n",
    "url = 'http://www.imdb.com/chart/top'\n",
    "response = requests.get(url)\n",
    "soup = BeautifulSoup(response.text, \"html.parser\")"
   ]
  },
  {
   "cell_type": "code",
   "execution_count": 4,
   "id": "ebde1c16",
   "metadata": {},
   "outputs": [],
   "source": [
    "movies = soup.select('td.titleColumn')\n",
    "crew = [a.attrs.get('title') for a in soup.select('td.titleColumn a')]\n",
    "ratings = [b.attrs.get('data-value')\n",
    "        for b in soup.select('td.posterColumn span[name=ir]')]"
   ]
  },
  {
   "cell_type": "code",
   "execution_count": 19,
   "id": "b16224f4",
   "metadata": {},
   "outputs": [],
   "source": [
    "#Create an empty list to store movie information\n",
    "list = []\n",
    " \n",
    "#Looping through movies to extract each movie's details\n",
    "for index in range(0, len(movies)):\n",
    "     \n",
    "    # Separating movie into: 'place', 'title', 'year'\n",
    "    movie_string = movies[index].get_text()\n",
    "    movie = (' '.join(movie_string.split()).replace('.', ''))\n",
    "    movie_title = movie[len(str(index))+1:-7]\n",
    "    year = re.search('\\((.*?)\\)', movie_string).group(1)\n",
    "    place = movie[:len(str(index))-(len(movie))]\n",
    "    \n",
    "    # Storing movie data in a dictionary\n",
    "    data = {\"place\": place,\n",
    "            \"movie_title\": movie_title,\n",
    "            \"rating\": ratings[index],\n",
    "            \"year\": year,\n",
    "            \"star_cast\": crew[index],\n",
    "            }\n",
    "    \n",
    "    #Adding the movie data to the list\n",
    "    list.append(data)"
   ]
  },
  {
   "cell_type": "code",
   "execution_count": 20,
   "id": "f25bd513",
   "metadata": {},
   "outputs": [],
   "source": [
    "for movie in list:\n",
    "    print(movie['place'], '-', movie['movie_title'], '('+movie['year'] +\n",
    "          ') -', 'Starring:', movie['star_cast'], movie['rating'])"
   ]
  },
  {
   "cell_type": "code",
   "execution_count": 28,
   "id": "a9c33091",
   "metadata": {},
   "outputs": [],
   "source": [
    "# Saving the list as a JSON file\n",
    "with open('imdb_top_250_movies.json', 'w', encoding='utf-8') as json_file:\n",
    "    json.dump(movies_list, json_file, indent=4, ensure_ascii=False)"
   ]
  }
 ],
 "metadata": {
  "kernelspec": {
   "display_name": "Python 3 (ipykernel)",
   "language": "python",
   "name": "python3"
  },
  "language_info": {
   "codemirror_mode": {
    "name": "ipython",
    "version": 3
   },
   "file_extension": ".py",
   "mimetype": "text/x-python",
   "name": "python",
   "nbconvert_exporter": "python",
   "pygments_lexer": "ipython3",
   "version": "3.10.9"
  }
 },
 "nbformat": 4,
 "nbformat_minor": 5
}
