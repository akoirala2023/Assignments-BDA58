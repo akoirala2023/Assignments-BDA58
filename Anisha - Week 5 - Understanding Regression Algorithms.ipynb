{
 "cells": [
  {
   "cell_type": "markdown",
   "id": "4204128c",
   "metadata": {},
   "source": [
    "# Understanding Regression Algorithms"
   ]
  },
  {
   "cell_type": "markdown",
   "id": "28cfbe17",
   "metadata": {},
   "source": [
    "Regression algorithms are a type of supervised learning algorithm that predict continuous output values. The goal of regression is to find the relationship between independent variables (features) and dependent variables (target). These algorithms are useful for tasks like predicting prices, temperatures, salaries, or other real-valued outputs.\n",
    "\n",
    "Here are some key regression algorithms:\n",
    "\n",
    "- Linear Regression: Finds the best-fitting straight line through the data.\n",
    "- Random Forest Regression: Uses multiple decision trees and averages their predictions to improve accuracy and reduce overfitting.\n",
    "- Gradient Boosting Regression: Builds an ensemble of weak models (often decision trees) sequentially, where each new model corrects the errors made by previous models."
   ]
  },
  {
   "cell_type": "markdown",
   "id": "dfe543be",
   "metadata": {},
   "source": [
    "### Scenario: Predicting Employee Salaries Based on Experience and Education"
   ]
  },
  {
   "cell_type": "code",
   "execution_count": 20,
   "id": "631fe9eb",
   "metadata": {},
   "outputs": [],
   "source": [
    "# Import necessary libraries\n",
    "\n",
    "import numpy as np\n",
    "import pandas as pd\n",
    "import matplotlib.pyplot as plt\n",
    "from sklearn.model_selection import train_test_split\n",
    "from sklearn.linear_model import LinearRegression\n",
    "from sklearn.metrics import mean_squared_error, r2_score"
   ]
  },
  {
   "cell_type": "code",
   "execution_count": 21,
   "id": "65803b68",
   "metadata": {},
   "outputs": [
    {
     "name": "stdout",
     "output_type": "stream",
     "text": [
      "    Unnamed: 0  YearsExperience    Salary\n",
      "0            0              1.2   39344.0\n",
      "1            1              1.4   46206.0\n",
      "2            2              1.6   37732.0\n",
      "3            3              2.1   43526.0\n",
      "4            4              2.3   39892.0\n",
      "5            5              3.0   56643.0\n",
      "6            6              3.1   60151.0\n",
      "7            7              3.3   54446.0\n",
      "8            8              3.3   64446.0\n",
      "9            9              3.8   57190.0\n",
      "10          10              4.0   63219.0\n",
      "11          11              4.1   55795.0\n",
      "12          12              4.1   56958.0\n",
      "13          13              4.2   57082.0\n",
      "14          14              4.6   61112.0\n",
      "15          15              5.0   67939.0\n",
      "16          16              5.2   66030.0\n",
      "17          17              5.4   83089.0\n",
      "18          18              6.0   81364.0\n",
      "19          19              6.1   93941.0\n",
      "20          20              6.9   91739.0\n",
      "21          21              7.2   98274.0\n",
      "22          22              8.0  101303.0\n",
      "23          23              8.3  113813.0\n",
      "24          24              8.8  109432.0\n",
      "25          25              9.1  105583.0\n",
      "26          26              9.6  116970.0\n",
      "27          27              9.7  112636.0\n",
      "28          28             10.4  122392.0\n",
      "29          29             10.6  121873.0\n"
     ]
    }
   ],
   "source": [
    "#Read the data \n",
    "salary_df = pd.read_csv('Salary_dataset.csv')\n",
    "print(salary_df)"
   ]
  },
  {
   "cell_type": "code",
   "execution_count": 22,
   "id": "73bc7145",
   "metadata": {},
   "outputs": [],
   "source": [
    "salary_df = salary_df.drop('Unnamed: 0', axis=1) #Removing the unnamed column"
   ]
  },
  {
   "cell_type": "code",
   "execution_count": 23,
   "id": "2e610095",
   "metadata": {
    "scrolled": true
   },
   "outputs": [
    {
     "name": "stdout",
     "output_type": "stream",
     "text": [
      "    YearsExperience    Salary\n",
      "0               1.2   39344.0\n",
      "1               1.4   46206.0\n",
      "2               1.6   37732.0\n",
      "3               2.1   43526.0\n",
      "4               2.3   39892.0\n",
      "5               3.0   56643.0\n",
      "6               3.1   60151.0\n",
      "7               3.3   54446.0\n",
      "8               3.3   64446.0\n",
      "9               3.8   57190.0\n",
      "10              4.0   63219.0\n",
      "11              4.1   55795.0\n",
      "12              4.1   56958.0\n",
      "13              4.2   57082.0\n",
      "14              4.6   61112.0\n",
      "15              5.0   67939.0\n",
      "16              5.2   66030.0\n",
      "17              5.4   83089.0\n",
      "18              6.0   81364.0\n",
      "19              6.1   93941.0\n",
      "20              6.9   91739.0\n",
      "21              7.2   98274.0\n",
      "22              8.0  101303.0\n",
      "23              8.3  113813.0\n",
      "24              8.8  109432.0\n",
      "25              9.1  105583.0\n",
      "26              9.6  116970.0\n",
      "27              9.7  112636.0\n",
      "28             10.4  122392.0\n",
      "29             10.6  121873.0\n"
     ]
    }
   ],
   "source": [
    "print(salary_df) # Displaying the dataset"
   ]
  },
  {
   "cell_type": "code",
   "execution_count": 26,
   "id": "6ca3c2ca",
   "metadata": {},
   "outputs": [],
   "source": [
    "# Step 2: Data Preprocessing (In this case, the downloaded dataset is already clean)\n",
    "X = salary_df[['YearsExperience']]  # Feature\n",
    "y = salary_df['Salary']  # Target"
   ]
  },
  {
   "cell_type": "code",
   "execution_count": 27,
   "id": "e1f4f980",
   "metadata": {},
   "outputs": [],
   "source": [
    "# Split the data into training and test sets (80% training, 20% testing)\n",
    "X_train, X_test, y_train, y_test = train_test_split(X, y, test_size=0.2, random_state=42)"
   ]
  },
  {
   "cell_type": "code",
   "execution_count": null,
   "id": "b379d427",
   "metadata": {},
   "outputs": [],
   "source": [
    "# Step 3: Model Training:\n",
    "#We use Linear Regression, which is part of Scikit-Learn, to train our model on the training data"
   ]
  },
  {
   "cell_type": "code",
   "execution_count": 29,
   "id": "c7aca679",
   "metadata": {},
   "outputs": [
    {
     "data": {
      "text/html": [
       "<style>#sk-container-id-2 {color: black;background-color: white;}#sk-container-id-2 pre{padding: 0;}#sk-container-id-2 div.sk-toggleable {background-color: white;}#sk-container-id-2 label.sk-toggleable__label {cursor: pointer;display: block;width: 100%;margin-bottom: 0;padding: 0.3em;box-sizing: border-box;text-align: center;}#sk-container-id-2 label.sk-toggleable__label-arrow:before {content: \"▸\";float: left;margin-right: 0.25em;color: #696969;}#sk-container-id-2 label.sk-toggleable__label-arrow:hover:before {color: black;}#sk-container-id-2 div.sk-estimator:hover label.sk-toggleable__label-arrow:before {color: black;}#sk-container-id-2 div.sk-toggleable__content {max-height: 0;max-width: 0;overflow: hidden;text-align: left;background-color: #f0f8ff;}#sk-container-id-2 div.sk-toggleable__content pre {margin: 0.2em;color: black;border-radius: 0.25em;background-color: #f0f8ff;}#sk-container-id-2 input.sk-toggleable__control:checked~div.sk-toggleable__content {max-height: 200px;max-width: 100%;overflow: auto;}#sk-container-id-2 input.sk-toggleable__control:checked~label.sk-toggleable__label-arrow:before {content: \"▾\";}#sk-container-id-2 div.sk-estimator input.sk-toggleable__control:checked~label.sk-toggleable__label {background-color: #d4ebff;}#sk-container-id-2 div.sk-label input.sk-toggleable__control:checked~label.sk-toggleable__label {background-color: #d4ebff;}#sk-container-id-2 input.sk-hidden--visually {border: 0;clip: rect(1px 1px 1px 1px);clip: rect(1px, 1px, 1px, 1px);height: 1px;margin: -1px;overflow: hidden;padding: 0;position: absolute;width: 1px;}#sk-container-id-2 div.sk-estimator {font-family: monospace;background-color: #f0f8ff;border: 1px dotted black;border-radius: 0.25em;box-sizing: border-box;margin-bottom: 0.5em;}#sk-container-id-2 div.sk-estimator:hover {background-color: #d4ebff;}#sk-container-id-2 div.sk-parallel-item::after {content: \"\";width: 100%;border-bottom: 1px solid gray;flex-grow: 1;}#sk-container-id-2 div.sk-label:hover label.sk-toggleable__label {background-color: #d4ebff;}#sk-container-id-2 div.sk-serial::before {content: \"\";position: absolute;border-left: 1px solid gray;box-sizing: border-box;top: 0;bottom: 0;left: 50%;z-index: 0;}#sk-container-id-2 div.sk-serial {display: flex;flex-direction: column;align-items: center;background-color: white;padding-right: 0.2em;padding-left: 0.2em;position: relative;}#sk-container-id-2 div.sk-item {position: relative;z-index: 1;}#sk-container-id-2 div.sk-parallel {display: flex;align-items: stretch;justify-content: center;background-color: white;position: relative;}#sk-container-id-2 div.sk-item::before, #sk-container-id-2 div.sk-parallel-item::before {content: \"\";position: absolute;border-left: 1px solid gray;box-sizing: border-box;top: 0;bottom: 0;left: 50%;z-index: -1;}#sk-container-id-2 div.sk-parallel-item {display: flex;flex-direction: column;z-index: 1;position: relative;background-color: white;}#sk-container-id-2 div.sk-parallel-item:first-child::after {align-self: flex-end;width: 50%;}#sk-container-id-2 div.sk-parallel-item:last-child::after {align-self: flex-start;width: 50%;}#sk-container-id-2 div.sk-parallel-item:only-child::after {width: 0;}#sk-container-id-2 div.sk-dashed-wrapped {border: 1px dashed gray;margin: 0 0.4em 0.5em 0.4em;box-sizing: border-box;padding-bottom: 0.4em;background-color: white;}#sk-container-id-2 div.sk-label label {font-family: monospace;font-weight: bold;display: inline-block;line-height: 1.2em;}#sk-container-id-2 div.sk-label-container {text-align: center;}#sk-container-id-2 div.sk-container {/* jupyter's `normalize.less` sets `[hidden] { display: none; }` but bootstrap.min.css set `[hidden] { display: none !important; }` so we also need the `!important` here to be able to override the default hidden behavior on the sphinx rendered scikit-learn.org. See: https://github.com/scikit-learn/scikit-learn/issues/21755 */display: inline-block !important;position: relative;}#sk-container-id-2 div.sk-text-repr-fallback {display: none;}</style><div id=\"sk-container-id-2\" class=\"sk-top-container\"><div class=\"sk-text-repr-fallback\"><pre>LinearRegression()</pre><b>In a Jupyter environment, please rerun this cell to show the HTML representation or trust the notebook. <br />On GitHub, the HTML representation is unable to render, please try loading this page with nbviewer.org.</b></div><div class=\"sk-container\" hidden><div class=\"sk-item\"><div class=\"sk-estimator sk-toggleable\"><input class=\"sk-toggleable__control sk-hidden--visually\" id=\"sk-estimator-id-2\" type=\"checkbox\" checked><label for=\"sk-estimator-id-2\" class=\"sk-toggleable__label sk-toggleable__label-arrow\">LinearRegression</label><div class=\"sk-toggleable__content\"><pre>LinearRegression()</pre></div></div></div></div></div>"
      ],
      "text/plain": [
       "LinearRegression()"
      ]
     },
     "execution_count": 29,
     "metadata": {},
     "output_type": "execute_result"
    }
   ],
   "source": [
    "model = LinearRegression()\n",
    "model.fit(X_train, y_train)"
   ]
  },
  {
   "cell_type": "code",
   "execution_count": 31,
   "id": "cc2d2e3f",
   "metadata": {},
   "outputs": [],
   "source": [
    "# Step 4: Evaluate the Model\n",
    "y_pred = model.predict(X_test)"
   ]
  },
  {
   "cell_type": "markdown",
   "id": "93bfa0fc",
   "metadata": {},
   "source": [
    "Model Evaluation:\n",
    "We calculate the Mean Squared Error (MSE) and R-squared (R²) value to evaluate how well the model is predicting salaries. The R-squared value indicates how much of the variance in the dependent variable (salary) is explained by the independent variables (experience). An R² value close to 1 means a good fit."
   ]
  },
  {
   "cell_type": "code",
   "execution_count": 33,
   "id": "66ddb3f5",
   "metadata": {},
   "outputs": [
    {
     "name": "stdout",
     "output_type": "stream",
     "text": [
      "Mean Squared Error: 49830096.855908394\n",
      "R-squared Value: 0.9024461774180497\n"
     ]
    }
   ],
   "source": [
    "# Calculate Mean Squared Error and R-squared\n",
    "mse = mean_squared_error(y_test, y_pred)\n",
    "r2 = r2_score(y_test, y_pred)\n",
    "print(f\"Mean Squared Error: {mse}\")\n",
    "print(f\"R-squared Value: {r2}\")"
   ]
  },
  {
   "cell_type": "markdown",
   "id": "eb32842b",
   "metadata": {},
   "source": [
    "Prediction:\n",
    "We use the trained model to predict the salary of an employee with 3 years of experience. The predicted salary is displayed."
   ]
  },
  {
   "cell_type": "code",
   "execution_count": 37,
   "id": "fe21b08e",
   "metadata": {},
   "outputs": [
    {
     "name": "stdout",
     "output_type": "stream",
     "text": [
      "[52651.64744857]\n"
     ]
    },
    {
     "name": "stderr",
     "output_type": "stream",
     "text": [
      "/Users/anisha/anaconda3/lib/python3.10/site-packages/sklearn/base.py:420: UserWarning: X does not have valid feature names, but LinearRegression was fitted with feature names\n",
      "  warnings.warn(\n"
     ]
    }
   ],
   "source": [
    "# Step 5: Make Predictions for New Data\n",
    "# Predict the salary for an employee with 3 years of experience\n",
    "new_employee = [[3.0]]\n",
    "predicted_salary = model.predict(new_employee)\n",
    "print(predicted_salary)"
   ]
  },
  {
   "cell_type": "markdown",
   "id": "ea234e28",
   "metadata": {},
   "source": [
    "Visualization:\n",
    "We plot a scatter plot showing the relationship between Experience and Salary, with the actual salaries shown in blue and the predicted line shown in red."
   ]
  },
  {
   "cell_type": "code",
   "execution_count": 39,
   "id": "c7832af3",
   "metadata": {},
   "outputs": [
    {
     "data": {
      "image/png": "[encoded data removed]",
      "text/plain": [
       "<Figure size 640x480 with 1 Axes>"
      ]
     },
     "metadata": {},
     "output_type": "display_data"
    }
   ],
   "source": [
    "# Visualize the relationship between Experience, Education, and Salary\n",
    "plt.scatter(salary_df['YearsExperience'], salary_df['Salary'], color='blue', label='Actual')\n",
    "plt.plot(salary_df['YearsExperience'], model.predict(X), color='red', label='Predicted')\n",
    "plt.xlabel('Experience (Years)')\n",
    "plt.ylabel('Salary ($)')\n",
    "plt.title('Salary vs Experience')\n",
    "plt.legend()\n",
    "plt.show()"
   ]
  }
 ],
 "metadata": {
  "kernelspec": {
   "display_name": "Python 3 (ipykernel)",
   "language": "python",
   "name": "python3"
  },
  "language_info": {
   "codemirror_mode": {
    "name": "ipython",
    "version": 3
   },
   "file_extension": ".py",
   "mimetype": "text/x-python",
   "name": "python",
   "nbconvert_exporter": "python",
   "pygments_lexer": "ipython3",
   "version": "3.10.9"
  }
 },
 "nbformat": 4,
 "nbformat_minor": 5
}
