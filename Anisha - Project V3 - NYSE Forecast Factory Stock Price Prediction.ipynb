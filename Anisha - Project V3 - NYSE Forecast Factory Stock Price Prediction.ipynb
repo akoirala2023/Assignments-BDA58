{
 "cells": [
  {
   "cell_type": "code",
   "execution_count": null,
   "id": "cbfafe8a",
   "metadata": {},
   "outputs": [],
   "source": [
    "#Import necessary libraries\n",
    "import yfinance as yf\n",
    "import pandas as pd\n",
    "import numpy as np\n",
    "from sklearn.preprocessing import MinMaxScaler\n",
    "from sklearn.model_selection import train_test_split, TimeSeriesSplit, cross_val_score\n",
    "from sklearn.linear_model import LinearRegression\n",
    "from sklearn.ensemble import RandomForestRegressor\n",
    "from sklearn.metrics import mean_squared_error, mean_absolute_error\n",
    "from tensorflow.keras.models import Sequential\n",
    "from tensorflow.keras.layers import LSTM, Dense\n",
    "import matplotlib.pyplot as plt"
   ]
  },
  {
   "cell_type": "code",
   "execution_count": null,
   "id": "ad851ce3",
   "metadata": {},
   "outputs": [],
   "source": [
    "#Collect historical stock data for Tesla from 2018 to 2023\n",
    "def get_stock_data(ticker, start_date, end_date):\n",
    "    stock_data = yf.download(ticker, start=start_date, end=end_date)\n",
    "    return stock_data\n",
    "\n",
    "data = get_stock_data('TSLA', '2018-01-01', '2023-01-01')"
   ]
  },
  {
   "cell_type": "code",
   "execution_count": null,
   "id": "9661be52",
   "metadata": {},
   "outputs": [],
   "source": [
    "#Data Preprocessing\n",
    "data.fillna(method='ffill', inplace=True)\n",
    "scaler = MinMaxScaler()\n",
    "scaled_data = scaler.fit_transform(data[['Close']])\n",
    "\n",
    "#Creating lagged features\n",
    "data['Close_Lag1'] = data['Close'].shift(1)\n",
    "data['Close_Lag2'] = data['Close'].shift(2)\n",
    "data.dropna(inplace=True)"
   ]
  },
  {
   "cell_type": "code",
   "execution_count": null,
   "id": "97b0be7b",
   "metadata": {},
   "outputs": [],
   "source": [
    "#Feature Engineering\n",
    "data['Moving_Avg_5'] = data['Close'].rolling(window=5).mean()\n",
    "data['Volatility'] = data['Close'].rolling(window=5).std()\n",
    "\n",
    "#Removing NA rows after feature engineering\n",
    "data.dropna(inplace=True)\n",
    "\n",
    "#Model Selection and training Models\n",
    "X = data[['Close_Lag1', 'Close_Lag2', 'Moving_Avg_5', 'Volatility']]\n",
    "y = data['Close']"
   ]
  },
  {
   "cell_type": "code",
   "execution_count": null,
   "id": "f7adc91a",
   "metadata": {},
   "outputs": [],
   "source": [
    "#Splitting the data into training and testing sets\n",
    "X_train, X_test, y_train, y_test = train_test_split(X, y, shuffle=False, test_size=0.2)\n",
    "\n",
    "#Applying linear Regression\n",
    "lin_reg = LinearRegression()\n",
    "lin_reg.fit(X_train, y_train)\n",
    "\n",
    "#Using Random Forest\n",
    "rf = RandomForestRegressor()\n",
    "rf.fit(X_train, y_train)\n",
    "\n",
    "#Using LSTM Model\n",
    "lstm_model = Sequential([\n",
    "    LSTM(50, return_sequences=True, input_shape=(X_train.shape[1], 1)),\n",
    "    LSTM(50),\n",
    "    Dense(1)\n",
    "])\n",
    "X_train_lstm = X_train.values.reshape(-1, X_train.shape[1], 1)\n",
    "X_test_lstm = X_test.values.reshape(-1, X_test.shape[1], 1)\n",
    "lstm_model.compile(optimizer='adam', loss='mean_squared_error')\n",
    "lstm_model.fit(X_train_lstm, y_train, epochs=10, batch_size=32, verbose=1)"
   ]
  },
  {
   "cell_type": "code",
   "execution_count": null,
   "id": "7444119c",
   "metadata": {},
   "outputs": [],
   "source": [
    "#Evaluation Metrics\n",
    "def evaluate_model(model, X_test, y_test, is_lstm=False):\n",
    "    if is_lstm:\n",
    "        preds = model.predict(X_test.reshape(-1, X_test.shape[1], 1))\n",
    "    else:\n",
    "        preds = model.predict(X_test)\n",
    "    rmse = np.sqrt(mean_squared_error(y_test, preds))\n",
    "    mae = mean_absolute_error(y_test, preds)\n",
    "    return rmse, mae\n",
    "\n",
    "rmse_lin, mae_lin = evaluate_model(lin_reg, X_test, y_test)\n",
    "rmse_rf, mae_rf = evaluate_model(rf, X_test, y_test)\n",
    "rmse_lstm, mae_lstm = evaluate_model(lstm_model, X_test_lstm, y_test, is_lstm=True)\n",
    "\n",
    "print(\"Linear Regression - RMSE:\", rmse_lin, \"MAE:\", mae_lin)\n",
    "print(\"Random Forest - RMSE:\", rmse_rf, \"MAE:\", mae_rf)\n",
    "print(\"LSTM - RMSE:\", rmse_lstm, \"MAE:\", mae_lstm)"
   ]
  },
  {
   "cell_type": "code",
   "execution_count": null,
   "id": "4da460ca",
   "metadata": {},
   "outputs": [],
   "source": [
    "#Validation using Cross-Validation\n",
    "tscv = TimeSeriesSplit(n_splits=5)\n",
    "cv_scores_rf = cross_val_score(rf, X, y, cv=tscv, scoring='neg_mean_squared_error')\n",
    "print(\"Random Forest Cross-Validation RMSE:\", np.sqrt(-cv_scores_rf.mean()))\n",
    "\n",
    "#Interpretation\n",
    "#Feature importance for Random Forest\n",
    "feature_importances = rf.feature_importances_\n",
    "for i, feature in enumerate(X.columns):\n",
    "    print(f'Feature: {feature}, Importance: {feature_importances[i]}')"
   ]
  },
  {
   "cell_type": "code",
   "execution_count": null,
   "id": "9760d5de",
   "metadata": {},
   "outputs": [],
   "source": [
    "#Comparing the model predictions with actual market data\n",
    "plt.plot(data.index[-len(y_test):], y_test, label='Actual Price')\n",
    "plt.plot(data.index[-len(y_test):], rf.predict(X_test), label='RF Predictions')\n",
    "plt.xlabel(\"Date\")\n",
    "plt.ylabel(\"Stock Price\")\n",
    "plt.title(\"Tesla Stock Price Prediction vs Actual\")\n",
    "plt.legend()\n",
    "plt.show()"
   ]
  }
 ],
 "metadata": {
  "kernelspec": {
   "display_name": "Python 3 (ipykernel)",
   "language": "python",
   "name": "python3"
  },
  "language_info": {
   "codemirror_mode": {
    "name": "ipython",
    "version": 3
   },
   "file_extension": ".py",
   "mimetype": "text/x-python",
   "name": "python",
   "nbconvert_exporter": "python",
   "pygments_lexer": "ipython3",
   "version": "3.10.9"
  }
 },
 "nbformat": 4,
 "nbformat_minor": 5
}
