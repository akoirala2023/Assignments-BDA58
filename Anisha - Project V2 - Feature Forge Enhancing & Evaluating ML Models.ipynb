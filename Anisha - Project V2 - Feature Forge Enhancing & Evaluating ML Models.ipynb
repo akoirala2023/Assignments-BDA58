{
 "cells": [
  {
   "cell_type": "code",
   "execution_count": null,
   "id": "98f51c99",
   "metadata": {},
   "outputs": [],
   "source": [
    "from sklearn.linear_model import LassoCV, LinearRegression\n",
    "from sklearn.feature_selection import RFECV\n",
    "from sklearn.metrics import mean_squared_error, r2_score\n",
    "from sklearn.model_selection import train_test_split\n",
    "from sklearn.preprocessing import StandardScaler"
   ]
  },
  {
   "cell_type": "code",
   "execution_count": null,
   "id": "2f74c46c",
   "metadata": {},
   "outputs": [],
   "source": [
    "from sklearn.linear_model import LassoCV, LinearRegression\n",
    "from sklearn.feature_selection import RFECV\n",
    "from sklearn.metrics import mean_squared_error, r2_score\n",
    "from sklearn.model_selection import train_test_split\n",
    "from sklearn.preprocessing import StandardScaler"
   ]
  },
  {
   "cell_type": "code",
   "execution_count": null,
   "id": "35d9dde6",
   "metadata": {},
   "outputs": [],
   "source": [
    "data = pd.read_csv(\"used_cars.csv\")"
   ]
  },
  {
   "cell_type": "code",
   "execution_count": null,
   "id": "f722857c",
   "metadata": {},
   "outputs": [],
   "source": [
    "#Show the first 5 data rows\n",
    "data.head()"
   ]
  },
  {
   "cell_type": "code",
   "execution_count": null,
   "id": "a35a7ed1",
   "metadata": {},
   "outputs": [],
   "source": [
    "#Convert mixed columns to numeric by removing non-numeric characters\n",
    "data['Mileage'] = pd.to_numeric(data['Mileage'].str.extract('(\\d+\\.?\\d*)')[0], errors='coerce')\n",
    "data['Engine'] = pd.to_numeric(data['Engine'].str.extract('(\\d+\\.?\\d*)')[0], errors='coerce')\n",
    "data['Power'] = pd.to_numeric(data['Power'].str.extract('(\\d+\\.?\\d*)')[0], errors='coerce')\n",
    "\n",
    "#Remove columns that won't faciltate for prediction (e.g., 'S.No.', 'Name', and 'New_Price')\n",
    "data = data.drop(columns=['S.No.', 'Name', 'New_Price'])\n",
    "\n",
    "#Remove rows with missing values in the target variable 'Price' and do imputation for missing values in other columns\n",
    "data = data.dropna(subset = ['Price'])\n",
    "data.fillna(data.median(numeric_only = True), inplace = True)\n",
    "\n",
    "#Use one-hot encoding to convert categorical columns\n",
    "categorical_columns = ['Location', 'Fuel_Type', 'Transmission', 'Owner_Type']\n",
    "data = pd.get_dummies(data, columns = categorical_columns, drop_first = True)"
   ]
  },
  {
   "cell_type": "code",
   "execution_count": null,
   "id": "511b5a3e",
   "metadata": {},
   "outputs": [],
   "source": [
    "#New data\n",
    "data.head()"
   ]
  },
  {
   "cell_type": "code",
   "execution_count": null,
   "id": "cce07123",
   "metadata": {},
   "outputs": [],
   "source": [
    "#Correlation matrix\n",
    "plt.figure(figsize=(14, 10))\n",
    "correlation_matrix = data.corr()\n",
    "sns.heatmap(correlation_matrix, annot=True, fmt=\".2f\", cmap='coolwarm', vmin=-1, vmax=1, square=True)\n",
    "plt.title(\"Correlation Matrix for Loan Prediction Dataset\")\n",
    "plt.show()\n",
    "\n",
    "#Identifying features with strong correlation to 'Price'\n",
    "correlation_with_target = correlation_matrix['Price'].abs().sort_values(ascending=False)\n",
    "correlation_with_target"
   ]
  },
  {
   "cell_type": "code",
   "execution_count": null,
   "id": "d3f12061",
   "metadata": {},
   "outputs": [],
   "source": [
    "#Split data into training and testing sets\n",
    "X_train, X_test, y_train, y_test = train_test_split(X_scaled, y, test_size=0.2, random_state=42)\n",
    "\n",
    "# Applying Lasso Feature Selection\n",
    "lasso = LassoCV(cv = 5, random_state = 42).fit(X_train, y_train)\n",
    "lasso_selected_features = X.columns[(lasso.coef_ != 0)]\n",
    "\n",
    "# Applying Recursive Feature Elimination (RFE)\n",
    "linear_regressor = LinearRegression()\n",
    "rfe = RFECV(estimator=linear_regressor, step = 1, cv = 5)\n",
    "rfe.fit(X_train, y_train)\n",
    "rfe_selected_features = X.columns[rfe.support_]\n",
    "\n",
    "#Evaluating the model\n",
    "y_pred = rfe.predict(X_test)\n",
    "print(\"R^2:\", r2_score(y_test, y_pred))\n",
    "print(\"RMSE:\", mean_squared_error(y_test, y_pred, squared=False))"
   ]
  }
 ],
 "metadata": {
  "kernelspec": {
   "display_name": "Python 3 (ipykernel)",
   "language": "python",
   "name": "python3"
  },
  "language_info": {
   "codemirror_mode": {
    "name": "ipython",
    "version": 3
   },
   "file_extension": ".py",
   "mimetype": "text/x-python",
   "name": "python",
   "nbconvert_exporter": "python",
   "pygments_lexer": "ipython3",
   "version": "3.10.9"
  }
 },
 "nbformat": 4,
 "nbformat_minor": 5
}
