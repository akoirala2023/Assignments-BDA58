{
 "cells": [
  {
   "cell_type": "code",
   "execution_count": null,
   "id": "f722c623",
   "metadata": {},
   "outputs": [],
   "source": [
    "#Import necessary libraries\n",
    "import pandas as pd\n",
    "import matplotlib.pyplot as plt\n",
    "import seaborn as sns\n",
    "import sqlite3"
   ]
  },
  {
   "cell_type": "code",
   "execution_count": null,
   "id": "ba6e6f89",
   "metadata": {},
   "outputs": [],
   "source": [
    "#Load the data\n",
    "data = pd.read_parquet(\"yellow_tripdata_2024-08.parquet\")\n",
    "\n",
    "#Display the first 5 rows\n",
    "data.head()"
   ]
  },
  {
   "cell_type": "code",
   "execution_count": null,
   "id": "824d59b4",
   "metadata": {},
   "outputs": [],
   "source": [
    "#Remove rows with missing or zero passenger counts, fare amounts and trip distances\n",
    "cleaned_data = data[\n",
    "    (data['passenger_count'] > 0) &\n",
    "    (data['fare_amount'] > 0) &\n",
    "    (data['trip_distance'] > 0)\n",
    "]"
   ]
  },
  {
   "cell_type": "code",
   "execution_count": null,
   "id": "ef60e730",
   "metadata": {},
   "outputs": [],
   "source": [
    "#Convert pickup and dropoff times to datetime for easier analysis\n",
    "cleaned_data['tpep_pickup_datetime'] = pd.to_datetime(cleaned_data['tpep_pickup_datetime'])\n",
    "cleaned_data['tpep_dropoff_datetime'] = pd.to_datetime(cleaned_data['tpep_dropoff_datetime'])\n",
    "\n",
    "#get hour, day of week and trip duration\n",
    "cleaned_data['pickup_hour'] = cleaned_data['tpep_pickup_datetime'].dt.hour\n",
    "cleaned_data['pickup_day'] = cleaned_data['tpep_pickup_datetime'].dt.day_name()\n",
    "cleaned_data['trip_duration'] = (cleaned_data['tpep_dropoff_datetime'] - cleaned_data['tpep_pickup_datetime']).dt.total_seconds() / 60"
   ]
  },
  {
   "cell_type": "code",
   "execution_count": null,
   "id": "27d940d5",
   "metadata": {},
   "outputs": [],
   "source": [
    "#Store the cleaned data in a database\n",
    "conn = sqlite3.connect('yellow_cab.db')\n",
    "cleaned_data.to_sql('cleaned_trips', conn, if_exists = 'replace', index = False)"
   ]
  },
  {
   "cell_type": "code",
   "execution_count": null,
   "id": "688381bc",
   "metadata": {},
   "outputs": [],
   "source": [
    "#Analyze Peak Hours\n",
    "plt.figure(figsize = (10, 5))\n",
    "sns.countplot(x = 'pickup_hour', data = cleaned_data, palette = 'viridis')\n",
    "plt.title('Number of Trips by Hour')\n",
    "plt.xlabel('Hour of the Day')\n",
    "plt.ylabel('Number of Trips')\n",
    "plt.show()"
   ]
  },
  {
   "cell_type": "code",
   "execution_count": null,
   "id": "1fd44f36",
   "metadata": {},
   "outputs": [],
   "source": [
    "#Analyze Popular Pickup Days\n",
    "plt.figure(figsize = (10, 5))\n",
    "sns.countplot(x = 'pickup_day', data = cleaned_data, order = ['Monday', 'Tuesday', 'Wednesday', 'Thursday', 'Friday', 'Saturday', 'Sunday'])\n",
    "plt.title('Number of Trips by Day of the Week')\n",
    "plt.xlabel('Day of the Week')\n",
    "plt.ylabel('Number of Trips')\n",
    "plt.show()"
   ]
  },
  {
   "cell_type": "code",
   "execution_count": null,
   "id": "ac726c7b",
   "metadata": {},
   "outputs": [],
   "source": [
    "#Analyze Fare Amount Distribution\n",
    "plt.figure(figsize = (10, 5))\n",
    "sns.histplot(cleaned_data['fare_amount'], bins = 50, kde = True)\n",
    "plt.title('Fare Amount Distribution')\n",
    "plt.xlabel('Fare Amount ($)')\n",
    "plt.ylabel('Frequency')\n",
    "plt.show()"
   ]
  },
  {
   "cell_type": "code",
   "execution_count": null,
   "id": "1c0eda66",
   "metadata": {},
   "outputs": [],
   "source": [
    "#Correlation Heatmap for Numerical Features\n",
    "plt.figure(figsize = (10, 5))\n",
    "sns.heatmap(cleaned_data[['fare_amount', 'trip_distance', 'trip_duration']].corr(), annot = True, cmap = 'coolwarm', vmin = -1, vmax = 1)\n",
    "plt.title('Correlation Heatmap')\n",
    "plt.show()"
   ]
  },
  {
   "cell_type": "code",
   "execution_count": null,
   "id": "55840121",
   "metadata": {},
   "outputs": [],
   "source": [
    "#Generate a final Report\n",
    "summary = cleaned_data.describe()\n",
    "print(\"Summary Statistics of Cleaned Data:\")\n",
    "print(summary)\n",
    "\n",
    "#Close the database connection\n",
    "conn.close()"
   ]
  }
 ],
 "metadata": {
  "kernelspec": {
   "display_name": "Python 3 (ipykernel)",
   "language": "python",
   "name": "python3"
  },
  "language_info": {
   "codemirror_mode": {
    "name": "ipython",
    "version": 3
   },
   "file_extension": ".py",
   "mimetype": "text/x-python",
   "name": "python",
   "nbconvert_exporter": "python",
   "pygments_lexer": "ipython3",
   "version": "3.10.9"
  }
 },
 "nbformat": 4,
 "nbformat_minor": 5
}
